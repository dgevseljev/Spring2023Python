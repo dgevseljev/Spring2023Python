{
 "cells": [
  {
   "cell_type": "markdown",
   "metadata": {},
   "source": [
    "## 4-е домашнее задание - Библиотека numpy\n",
    "\n",
    "Подпишите этот блокнот: укажите ФИО и номер группы. Выполненное задание загрузите в свой репозиторий «<b>Spring2023Python</b>» в github в папку \"<b>homework04</b>\".  \n",
    "\n",
    "Перед выполнением этого домашнего задания полезно прочитать про возможности и основные методы библиотеки numpy:  \n",
    "http://acm.mipt.ru/twiki/bin/view/Cintro/PythonNumpy  \n"
   ]
  },
  {
   "cell_type": "markdown",
   "metadata": {},
   "source": [
    "1.\tСоздайте равномерное разбиение интервала от -1.3 до 2.5 на 64 отрезка."
   ]
  },
  {
   "cell_type": "code",
   "execution_count": 1,
   "metadata": {},
   "outputs": [
    {
     "name": "stdout",
     "output_type": "stream",
     "text": [
      "[-1.3      -1.240625 -1.18125  -1.121875 -1.0625   -1.003125 -0.94375\n",
      " -0.884375 -0.825    -0.765625 -0.70625  -0.646875 -0.5875   -0.528125\n",
      " -0.46875  -0.409375 -0.35     -0.290625 -0.23125  -0.171875 -0.1125\n",
      " -0.053125  0.00625   0.065625  0.125     0.184375  0.24375   0.303125\n",
      "  0.3625    0.421875  0.48125   0.540625  0.6       0.659375  0.71875\n",
      "  0.778125  0.8375    0.896875  0.95625   1.015625  1.075     1.134375\n",
      "  1.19375   1.253125  1.3125    1.371875  1.43125   1.490625  1.55\n",
      "  1.609375  1.66875   1.728125  1.7875    1.846875  1.90625   1.965625\n",
      "  2.025     2.084375  2.14375   2.203125  2.2625    2.321875  2.38125\n",
      "  2.440625  2.5     ]\n"
     ]
    }
   ],
   "source": [
    "import numpy as np\n",
    "def razbienie (a, b, n):\n",
    "    a = np.linspace(a, b, n+1)\n",
    "    return a\n",
    "\n",
    "print(razbienie(-1.3, 2.5, 64))"
   ]
  },
  {
   "cell_type": "markdown",
   "metadata": {},
   "source": [
    "2.\tСгенерируйте numpy массив длины $3n$, заполненный циклически числами 1, 2, 3, 1, 2, 3, 1...."
   ]
  },
  {
   "cell_type": "code",
   "execution_count": 10,
   "metadata": {},
   "outputs": [
    {
     "name": "stdout",
     "output_type": "stream",
     "text": [
      "[1 2 3 1 2 3 1 2 3]\n"
     ]
    }
   ],
   "source": [
    "def create_circle_array(n):\n",
    "    a = np.array([1, 2, 3]*3*n)\n",
    "    return a\n",
    "print(create_circle_array(1))"
   ]
  },
  {
   "cell_type": "markdown",
   "metadata": {},
   "source": [
    "3.\tСоздайте массив первых 10 нечетных целых чисел."
   ]
  },
  {
   "cell_type": "code",
   "execution_count": 4,
   "metadata": {},
   "outputs": [
    {
     "name": "stdout",
     "output_type": "stream",
     "text": [
      "[ 1  3  5  7  9 11 13 15 17 19]\n"
     ]
    }
   ],
   "source": [
    "def create_odd_array(n):\n",
    "    arr = np.arange(1, 2*n, 2)\n",
    "    return arr\n",
    "\n",
    "print(create_odd_array(10))"
   ]
  },
  {
   "cell_type": "markdown",
   "metadata": {},
   "source": [
    "4.  Создайте массив нулей размера 10 x 10, а затем создайте в нём \"рамку\" из единиц по краям."
   ]
  },
  {
   "cell_type": "code",
   "execution_count": 15,
   "metadata": {},
   "outputs": [
    {
     "name": "stdout",
     "output_type": "stream",
     "text": [
      "[[1. 1. 1. 1. 1. 1. 1. 1. 1. 1.]\n",
      " [1. 0. 0. 0. 0. 0. 0. 0. 0. 1.]\n",
      " [1. 0. 0. 0. 0. 0. 0. 0. 0. 1.]\n",
      " [1. 0. 0. 0. 0. 0. 0. 0. 0. 1.]\n",
      " [1. 0. 0. 0. 0. 0. 0. 0. 0. 1.]\n",
      " [1. 0. 0. 0. 0. 0. 0. 0. 0. 1.]\n",
      " [1. 0. 0. 0. 0. 0. 0. 0. 0. 1.]\n",
      " [1. 0. 0. 0. 0. 0. 0. 0. 0. 1.]\n",
      " [1. 0. 0. 0. 0. 0. 0. 0. 0. 1.]\n",
      " [1. 1. 1. 1. 1. 1. 1. 1. 1. 1.]]\n"
     ]
    }
   ],
   "source": [
    "def create_frame_matrix(n):\n",
    "    matrix = np.zeros((n,n))\n",
    "    matrix[0] = 1\n",
    "    matrix[n-1] = 1\n",
    "    matrix[:, 0] = 1\n",
    "    matrix[:, n-1] = 1\n",
    "    return matrix\n",
    "\n",
    "print(create_frame_matrix(10))"
   ]
  },
  {
   "cell_type": "markdown",
   "metadata": {},
   "source": [
    "5.  Создайте массив 8 x 8 с шахматной доской из нулей и единиц."
   ]
  },
  {
   "cell_type": "code",
   "execution_count": 19,
   "metadata": {},
   "outputs": [
    {
     "name": "stdout",
     "output_type": "stream",
     "text": [
      "[[1. 0. 1. 0. 1. 0. 1. 0.]\n",
      " [0. 1. 0. 1. 0. 1. 0. 1.]\n",
      " [1. 0. 1. 0. 1. 0. 1. 0.]\n",
      " [0. 1. 0. 1. 0. 1. 0. 1.]\n",
      " [1. 0. 1. 0. 1. 0. 1. 0.]\n",
      " [0. 1. 0. 1. 0. 1. 0. 1.]\n",
      " [1. 0. 1. 0. 1. 0. 1. 0.]\n",
      " [0. 1. 0. 1. 0. 1. 0. 1.]]\n"
     ]
    }
   ],
   "source": [
    "def create_chess_matrix(n):\n",
    "    matrix = np.zeros((n,n))\n",
    "    matrix[0::2, 0::2] = 1\n",
    "    matrix[1::2, 1::2] = 1\n",
    "    return matrix\n",
    "\n",
    "print(create_chess_matrix(8))"
   ]
  },
  {
   "cell_type": "markdown",
   "metadata": {},
   "source": [
    "6.  Создайте функцию, которая создает $n×n$ матрицу с $(i,j)$-элементом, равным $i+j$."
   ]
  },
  {
   "cell_type": "code",
   "execution_count": 21,
   "metadata": {},
   "outputs": [
    {
     "name": "stdout",
     "output_type": "stream",
     "text": [
      "[[0 1 2 3]\n",
      " [1 2 3 4]\n",
      " [2 3 4 5]\n",
      " [3 4 5 6]]\n"
     ]
    }
   ],
   "source": [
    "def create_ij_matrix(n):\n",
    "    row_indexes = np.arange(n)\n",
    "    col_indexes = np.arange(n)\n",
    "    return row_indexes[:, np.newaxis] + col_indexes\n",
    "\n",
    "print(create_ij_matrix(4))"
   ]
  },
  {
   "cell_type": "markdown",
   "metadata": {},
   "source": [
    "7. Примените функцию dot для перемножения вектор на вектор, матрицу на вектор и матрицу на матрицу."
   ]
  },
  {
   "cell_type": "code",
   "execution_count": 33,
   "metadata": {
    "scrolled": true
   },
   "outputs": [
    {
     "name": "stdout",
     "output_type": "stream",
     "text": [
      "44\n",
      "[ 99  43 124]\n",
      "[[ 22 112  94  93]\n",
      " [ 49  22  30  62]\n",
      " [ 65 134 126 107]]\n"
     ]
    }
   ],
   "source": [
    "vector1 = np.random.randint(10, size=(5))\n",
    "vector2 = np.random.randint(10, size=(5))\n",
    "matrix1 = np.random.randint(10, size=(3,5))\n",
    "matrix2 = np.random.randint(10, size=(5,4))\n",
    "\n",
    "\n",
    "vec_x_vec = np.dot(vector1, vector2)\n",
    "mat_x_vec = np.dot(matrix1, vector1)\n",
    "mat_x_mat = np.dot(matrix1, matrix2)\n",
    "\n",
    "# print('vector 1 = ', vector1)\n",
    "# print('vector 2 = ', vector2)\n",
    "# print('matrix 1 = \\n', matrix1)\n",
    "# print('matrix 2 = \\n', matrix2)\n",
    "\n",
    "print(vec_x_vec)\n",
    "print(mat_x_vec)\n",
    "print(mat_x_mat)"
   ]
  },
  {
   "cell_type": "markdown",
   "metadata": {},
   "source": [
    "8. Вычислите cos(x) и sin(x) на интервале [0,1] с шагом $0.05$, а затем объедините оба массива чисел как строки в один массив."
   ]
  },
  {
   "cell_type": "code",
   "execution_count": 34,
   "metadata": {},
   "outputs": [
    {
     "name": "stdout",
     "output_type": "stream",
     "text": [
      "[[ 1.00000000e+00  9.87688341e-01  9.51056516e-01  8.91006524e-01\n",
      "   8.09016994e-01  7.07106781e-01  5.87785252e-01  4.53990500e-01\n",
      "   3.09016994e-01  1.56434465e-01  6.12323400e-17 -1.56434465e-01\n",
      "  -3.09016994e-01 -4.53990500e-01 -5.87785252e-01 -7.07106781e-01\n",
      "  -8.09016994e-01 -8.91006524e-01 -9.51056516e-01 -9.87688341e-01\n",
      "  -1.00000000e+00]\n",
      " [ 0.00000000e+00  1.56434465e-01  3.09016994e-01  4.53990500e-01\n",
      "   5.87785252e-01  7.07106781e-01  8.09016994e-01  8.91006524e-01\n",
      "   9.51056516e-01  9.87688341e-01  1.00000000e+00  9.87688341e-01\n",
      "   9.51056516e-01  8.91006524e-01  8.09016994e-01  7.07106781e-01\n",
      "   5.87785252e-01  4.53990500e-01  3.09016994e-01  1.56434465e-01\n",
      "   1.22464680e-16]]\n"
     ]
    }
   ],
   "source": [
    "xx = np.arange(0, 1.05, 0.05)\n",
    "cos_values = np.cos(xx * np.pi)\n",
    "sin_values = np.sin(xx * np.pi)\n",
    "\n",
    "result = np.vstack((cos_values, sin_values))\n",
    "print(result)"
   ]
  },
  {
   "cell_type": "markdown",
   "metadata": {},
   "source": [
    "9. Создайте матрицу $A$ размера $3×5$ из случайных чисел с равномерным распределением на отрезке $[-1,3]$ (используйте np.random.rand)"
   ]
  },
  {
   "cell_type": "code",
   "execution_count": 35,
   "metadata": {},
   "outputs": [
    {
     "name": "stdout",
     "output_type": "stream",
     "text": [
      "[[-0.21759204  1.19176285  1.6805339  -0.61885453 -0.70725247]\n",
      " [ 1.2200651   0.75847949 -0.0827758   1.75779374  0.95881998]\n",
      " [ 1.48613621  2.88750761  2.21190758  0.06341742  0.22465926]]\n"
     ]
    }
   ],
   "source": [
    "A = np.random.rand(3, 5) * 4 - 1\n",
    "\n",
    "print(A)"
   ]
  },
  {
   "cell_type": "markdown",
   "metadata": {},
   "source": [
    "10. Найдите сумму всех элементов, сумму внутри строк, сумму внутри столбцов, а также среднее значение, дисперсию и стандартное отклонение чисел для каждой строки матрицы $A$. (Подобно тому, как sorted имеет необязательный аргумент key=, многие функции Numpy имеют необязательный аргумент axis=)\n"
   ]
  },
  {
   "cell_type": "code",
   "execution_count": 39,
   "metadata": {},
   "outputs": [
    {
     "name": "stdout",
     "output_type": "stream",
     "text": [
      "Сумма всех элементов:  12.814608293920038\n",
      "Сумма внутри строк:  [1.3285977  4.61238252 6.87362808]\n",
      "Сумма внутри столбцов:  [2.48860927 4.83774995 3.80966567 1.20235662 0.47622677]\n",
      "Средние значения:  [0.26571954 0.9224765  1.37472562]\n",
      "Дисперсии:  [0.96439835 0.36501238 1.20879543]\n",
      "Стандартные отклонения:  [0.98203786 0.60416255 1.09945233]\n"
     ]
    }
   ],
   "source": [
    "sum_elems = np.sum(A)\n",
    "sum_rows = np.sum(A, axis=1)\n",
    "sum_cols = np.sum(A, axis=0)\n",
    "mean_rows = np.mean(A, axis=1)\n",
    "var_rows = np.var(A, axis=1)\n",
    "std_rows = np.std(A, axis=1)\n",
    "\n",
    "print('Сумма всех элементов: ', sum_elems)\n",
    "print('Сумма внутри строк: ', sum_rows)\n",
    "print('Сумма внутри столбцов: ', sum_cols)\n",
    "print('Средние значения: ', mean_rows)\n",
    "print('Дисперсии: ', var_rows)   \n",
    "print('Стандартные отклонения: ', std_rows)    "
   ]
  },
  {
   "cell_type": "markdown",
   "metadata": {},
   "source": [
    "11.  Отнимите от каждого элемента матрицы $A$ среднее по строке и поделите на стандартное отклонение строки."
   ]
  },
  {
   "cell_type": "code",
   "execution_count": 40,
   "metadata": {},
   "outputs": [
    {
     "name": "stdout",
     "output_type": "stream",
     "text": [
      "[[-0.49215167  0.94298127  1.44069228 -0.90075353 -0.99076834]\n",
      " [ 0.4925638  -0.27144518 -1.66387723  1.38260347  0.06015514]\n",
      " [ 0.10133281  1.37594142  0.76145363 -1.19269218 -1.04603567]]\n"
     ]
    }
   ],
   "source": [
    "A_norm = (A - mean_rows[:, np.newaxis]) / std_rows[:, np.newaxis]\n",
    "\n",
    "print(A_norm)"
   ]
  },
  {
   "cell_type": "markdown",
   "metadata": {},
   "source": [
    "12. Отсортируйте матрицу $A$ по 3-ому столбцу, т.е. поменяйте местами строки матрицы так, чтобы 3-й столбец оказался отсортированным. Используйте для этого slicing + argsort + indexing."
   ]
  },
  {
   "cell_type": "code",
   "execution_count": 41,
   "metadata": {},
   "outputs": [
    {
     "name": "stdout",
     "output_type": "stream",
     "text": [
      "[[ 1.2200651   0.75847949 -0.0827758   1.75779374  0.95881998]\n",
      " [-0.21759204  1.19176285  1.6805339  -0.61885453 -0.70725247]\n",
      " [ 1.48613621  2.88750761  2.21190758  0.06341742  0.22465926]]\n"
     ]
    }
   ],
   "source": [
    "sort_indexes = np.argsort(A[:, 2])\n",
    "A_sorted = A[sort_indexes]\n",
    "\n",
    "print(A_sorted)"
   ]
  },
  {
   "cell_type": "markdown",
   "metadata": {},
   "source": [
    "13. Посчитайте две матрицы: $B = A^TA$ и $C = AA^T$. Что вы можете о них сказать? Какого они размера? В чём их сходство и отличие?"
   ]
  },
  {
   "cell_type": "code",
   "execution_count": 42,
   "metadata": {},
   "outputs": [
    {
     "name": "stdout",
     "output_type": "stream",
     "text": [
      "B = \n",
      " [[ 3.74450598  4.95730587  2.82053328  2.37352754  1.65758958]\n",
      " [ 4.95730587 10.33329003  8.32691408  0.77884094  0.53307341]\n",
      " [ 2.82053328  8.32691408  7.72358115 -1.04523534 -0.77100332]\n",
      " [ 2.37352754  0.77884094 -1.04523534  3.47684152  2.13734147]\n",
      " [ 1.65758958  0.53307341 -0.77100332  2.13734147  1.47001361]]\n",
      "C = \n",
      " [[ 5.17502614 -1.26660274  6.63690157]\n",
      " [-1.26660274  6.07987642  4.14708834]\n",
      " [ 6.63690157  4.14708834 15.49332972]]\n"
     ]
    }
   ],
   "source": [
    "B = np.dot(A.T, A) # размер матрицы 5x5\n",
    "C = np.dot(A, A.T) # размер матрицы 3x3\n",
    "\n",
    "# сходства: обе симметричные; являются произведением матрицы А и транспонированной А\n",
    "# + как выяснилось позже, одинаковые суммы диагональных элементов\n",
    "\n",
    "# отличия: размерность; \n",
    "\n",
    "print('B = \\n', B)\n",
    "print('C = \\n', C)\n",
    "\n"
   ]
  },
  {
   "cell_type": "markdown",
   "metadata": {},
   "source": [
    "14. Найдите сумму диагональных элементов матриц $B$ и $C$."
   ]
  },
  {
   "cell_type": "code",
   "execution_count": 43,
   "metadata": {},
   "outputs": [
    {
     "name": "stdout",
     "output_type": "stream",
     "text": [
      "Сумма диагональных элементов матрицы B:  26.748232280235747\n",
      "Сумма диагональных элементов матрицы C:  26.748232280235744\n"
     ]
    }
   ],
   "source": [
    "sum_B = np.trace(B)\n",
    "sum_C = np.trace(C)\n",
    "\n",
    "print('Сумма диагональных элементов матрицы B: ', sum_B)\n",
    "print('Сумма диагональных элементов матрицы C: ', sum_C)"
   ]
  },
  {
   "cell_type": "markdown",
   "metadata": {},
   "source": [
    "15.\tПосчитайте детерминант и ранг матриц $A$, $B$ и $C$, посмотрите на спектр (набор собственных значений) матриц $B$ и $C$, какие выводы вы можете сделать?  \n",
    "(подсказка: используйте готовые функции из библиотеки np.linalg). \n"
   ]
  },
  {
   "cell_type": "code",
   "execution_count": 47,
   "metadata": {},
   "outputs": [
    {
     "name": "stdout",
     "output_type": "stream",
     "text": [
      "Детерминант матрицы B:  -7.138189495162811e-31\n",
      "Детерминант матрицы C:  36.08444239593551\n",
      "Ранг матрицы A:  3\n",
      "Ранг матрицы B:  3\n",
      "Ранг матрицы C:  3\n",
      "Спектр матрицы B:  [-2.32254947e-15 -2.36985044e-17  2.65405504e-01  6.96643391e+00\n",
      "  1.95163929e+01]\n",
      "Спектр матрицы C:  [ 0.2654055   6.96643391 19.51639286]\n"
     ]
    }
   ],
   "source": [
    "# det_A = np.linalg.det(A) матрица А неквадратная\n",
    "det_B = np.linalg.det(B)\n",
    "det_C = np.linalg.det(C)\n",
    "\n",
    "rank_A = np.linalg.matrix_rank(A)\n",
    "rank_B = np.linalg.matrix_rank(B)\n",
    "rank_C = np.linalg.matrix_rank(C)\n",
    "\n",
    "eigvals_B = np.linalg.eigvalsh(B)\n",
    "eigvals_C = np.linalg.eigvalsh(C)\n",
    "\n",
    "print('Детерминант матрицы B: ', det_B)\n",
    "print('Детерминант матрицы C: ', det_C)\n",
    "print('Ранг матрицы A: ', rank_A)\n",
    "print('Ранг матрицы B: ', rank_B)\n",
    "print('Ранг матрицы C: ', rank_C)\n",
    "print('Спектр матрицы B: ', eigvals_B)\n",
    "print('Спектр матрицы C: ', eigvals_C)"
   ]
  },
  {
   "cell_type": "markdown",
   "metadata": {},
   "source": [
    "16. Численно посчитать определённый интеграл  3-мя методами:  \n",
    "a)\tПрямоугольников $\\int\\limits_a^b {f(x)dx \\approx \\Delta x\\sum\\limits_{k = 0}^N {f({x_k})} }$  \n",
    "b)\tТрапеций $\\int\\limits_a^b {f(x)dx \\approx \\frac{{\\Delta x}}{2}\\left( {f({x_0}) + 2\\sum\\limits_{k = 1}^{N - 1} {f({x_k})}  + f({x_N})} \\right)}$  \n",
    "c)\tПо правилу Симпсона  $\\int\\limits_a^b {f(x)dx \\approx \\frac{{\\Delta x}}{3}\\left( {f({x_0}) + 2\\sum\\limits_{k = 1}^{N/2 - 1} {f({x_{2k}})}  + 4\\sum\\limits_{k = 1}^{N/2} {f({x_{2k - 1}})}  + f({x_N})} \\right)}$  \n",
    "\n",
    "\n",
    "В реализации этих методов цикл for для суммирования использовать нельзя.  \n",
    "Нужно посчитать значение интеграла с некоторым шагом интегрирования (например начать с 0.1), потом уменьшить его в десять раз и ещё раз посчитать и так до тех пор пока отличие в ответах будет в 5-м знаке после запятой, т.е. чтобы ошибка была меньше 1e-5. Получить ответы для 3-х разных методов и сделать соответствующие выводы.  \n",
    "\n",
    "Далее необходимо сравнить полученные оценки с аналитическим решением (т.е. формульным, которое вы должны сами посчитать на листочке и вбить формулу-ответ).   \n",
    "\n",
    "В качестве интеграла взять два из следующих примеров:  \n",
    "- один с номером, сгенерированным случайным образом с помощью функции np.random.randint(9), в качестве seed для генератора случайных чисел взять номер своего студенческого билета. \n",
    "- второй номер - под номером 9, несобственный интерграл. Подумайте, как сделать подбор шага интегрирования адаптивным.\n",
    "\n",
    "<table width=\"80%\"\n",
    "       align=\"center\">\n",
    "    <tr>\n",
    "        <td> 0) $\\int\\limits_3^4 {\\frac{{{x^2} + 3}}{{x - 2}}dx}$ </td>\n",
    "        <td> 1) $\\int\\limits_{ - 2}^{ - 1} {\\frac{{x + 1}}{{{x^3} - {x^2}}}dx}$ </td>\n",
    "        <td> 2) $\\int\\limits_1^2 {\\frac{{{e^{1/{x^2}}}}}{{{x^3}}}dx}$ </td>\n",
    "        <td> 3) $\\int\\limits_1^e {\\frac{{\\cos (\\ln x)}}{x}dx}$ </td>\n",
    "        <td> 4) $\\int\\limits_1^e {\\frac{{dx}}{{x(1 + {{\\ln }^2}x)}}}$ </td>\n",
    "    </tr>                \n",
    "    <tr>\n",
    "        <td> 5) $\\int\\limits_0^{\\pi /2} {{{\\cos }^3}\\alpha \\;d\\alpha }$ </td>\n",
    "        <td> 6) $\\int\\limits_0^{1/3} {c{h^2}3x\\;dx}$ </td>\n",
    "        <td> 7) $\\int\\limits_2^3 {\\frac{{dy}}{{{y^2} - 2y - 8}}dy}$ </td>\n",
    "        <td> 8) $\\int\\limits_0^2 {\\frac{{2x - 1}}{{2x + 1}}dx}$ </td>\n",
    "        <td> 9) $\\int\\limits_{3/4}^2 {\\frac{{dx}}{{\\sqrt {2 + 3x - 2{x^2}} }}}$ </td>\n",
    "        </tr>\n",
    "</table>"
   ]
  },
  {
   "cell_type": "code",
   "execution_count": null,
   "metadata": {},
   "outputs": [],
   "source": []
  }
 ],
 "metadata": {
  "kernelspec": {
   "display_name": "Python 3 (ipykernel)",
   "language": "python",
   "name": "python3"
  },
  "language_info": {
   "codemirror_mode": {
    "name": "ipython",
    "version": 3
   },
   "file_extension": ".py",
   "mimetype": "text/x-python",
   "name": "python",
   "nbconvert_exporter": "python",
   "pygments_lexer": "ipython3",
   "version": "3.11.2"
  }
 },
 "nbformat": 4,
 "nbformat_minor": 2
}
